{
 "cells": [
  {
   "cell_type": "code",
   "execution_count": 1,
   "id": "c988e7cb",
   "metadata": {},
   "outputs": [
    {
     "name": "stdout",
     "output_type": "stream",
     "text": [
      "The Zen of Python, by Tim Peters\n",
      "\n",
      "Beautiful is better than ugly.\n",
      "Explicit is better than implicit.\n",
      "Simple is better than complex.\n",
      "Complex is better than complicated.\n",
      "Flat is better than nested.\n",
      "Sparse is better than dense.\n",
      "Readability counts.\n",
      "Special cases aren't special enough to break the rules.\n",
      "Although practicality beats purity.\n",
      "Errors should never pass silently.\n",
      "Unless explicitly silenced.\n",
      "In the face of ambiguity, refuse the temptation to guess.\n",
      "There should be one-- and preferably only one --obvious way to do it.\n",
      "Although that way may not be obvious at first unless you're Dutch.\n",
      "Now is better than never.\n",
      "Although never is often better than *right* now.\n",
      "If the implementation is hard to explain, it's a bad idea.\n",
      "If the implementation is easy to explain, it may be a good idea.\n",
      "Namespaces are one honking great idea -- let's do more of those!\n"
     ]
    }
   ],
   "source": [
    "import this"
   ]
  },
  {
   "cell_type": "code",
   "execution_count": 2,
   "id": "111c1900",
   "metadata": {},
   "outputs": [
    {
     "name": "stdout",
     "output_type": "stream",
     "text": [
      "this is my first code\n"
     ]
    }
   ],
   "source": [
    "print(\"this is my first code\")"
   ]
  },
  {
   "cell_type": "raw",
   "id": "e7cf7dcf",
   "metadata": {},
   "source": [
    "how to get explaination of inbuilt functions.  Shift + Tab\n",
    "example  = print(Shift+Tab)"
   ]
  },
  {
   "cell_type": "code",
   "execution_count": 3,
   "id": "5069af97",
   "metadata": {},
   "outputs": [
    {
     "data": {
      "text/plain": [
       "514"
      ]
     },
     "execution_count": 3,
     "metadata": {},
     "output_type": "execute_result"
    }
   ],
   "source": [
    "46+468"
   ]
  },
  {
   "cell_type": "code",
   "execution_count": 4,
   "id": "4b1a1892",
   "metadata": {},
   "outputs": [
    {
     "data": {
      "text/plain": [
       "7.695652173913044"
      ]
     },
     "execution_count": 4,
     "metadata": {},
     "output_type": "execute_result"
    }
   ],
   "source": [
    "354/46"
   ]
  },
  {
   "cell_type": "code",
   "execution_count": 1,
   "id": "44f842e7",
   "metadata": {},
   "outputs": [
    {
     "data": {
      "text/plain": [
       "3"
      ]
     },
     "execution_count": 1,
     "metadata": {},
     "output_type": "execute_result"
    }
   ],
   "source": [
    "1+2"
   ]
  },
  {
   "cell_type": "code",
   "execution_count": null,
   "id": "97a4af39",
   "metadata": {},
   "outputs": [],
   "source": [
    "len()"
   ]
  },
  {
   "cell_type": "raw",
   "id": "fcb300dc",
   "metadata": {},
   "source": [
    "len Shift + tab , len() Shift + tab "
   ]
  },
  {
   "cell_type": "code",
   "execution_count": 2,
   "id": "4b681cd0",
   "metadata": {},
   "outputs": [],
   "source": [
    "a=10"
   ]
  },
  {
   "cell_type": "code",
   "execution_count": 3,
   "id": "39e87d9a",
   "metadata": {},
   "outputs": [
    {
     "data": {
      "text/plain": [
       "10"
      ]
     },
     "execution_count": 3,
     "metadata": {},
     "output_type": "execute_result"
    }
   ],
   "source": [
    "a"
   ]
  },
  {
   "cell_type": "code",
   "execution_count": 4,
   "id": "3c5ecc5d",
   "metadata": {},
   "outputs": [],
   "source": [
    "shiri=16574"
   ]
  },
  {
   "cell_type": "code",
   "execution_count": 5,
   "id": "1e55a3bb",
   "metadata": {},
   "outputs": [
    {
     "data": {
      "text/plain": [
       "16574"
      ]
     },
     "execution_count": 5,
     "metadata": {},
     "output_type": "execute_result"
    }
   ],
   "source": [
    "shiri"
   ]
  },
  {
   "cell_type": "code",
   "execution_count": 6,
   "id": "f69407ad",
   "metadata": {},
   "outputs": [],
   "source": [
    "rev=16"
   ]
  },
  {
   "cell_type": "code",
   "execution_count": 7,
   "id": "485dae0f",
   "metadata": {},
   "outputs": [
    {
     "data": {
      "text/plain": [
       "16"
      ]
     },
     "execution_count": 7,
     "metadata": {},
     "output_type": "execute_result"
    }
   ],
   "source": [
    "rev"
   ]
  },
  {
   "cell_type": "raw",
   "id": "89650f8d",
   "metadata": {},
   "source": [
    "a=10   a is variable name = 10 is variable value"
   ]
  },
  {
   "cell_type": "code",
   "execution_count": 8,
   "id": "a90f434f",
   "metadata": {},
   "outputs": [
    {
     "data": {
      "text/plain": [
       "int"
      ]
     },
     "execution_count": 8,
     "metadata": {},
     "output_type": "execute_result"
    }
   ],
   "source": [
    "type(a)"
   ]
  },
  {
   "cell_type": "code",
   "execution_count": 10,
   "id": "b641d4ef",
   "metadata": {},
   "outputs": [],
   "source": [
    "b=45.68"
   ]
  },
  {
   "cell_type": "code",
   "execution_count": 11,
   "id": "2ea76f10",
   "metadata": {},
   "outputs": [
    {
     "data": {
      "text/plain": [
       "float"
      ]
     },
     "execution_count": 11,
     "metadata": {},
     "output_type": "execute_result"
    }
   ],
   "source": [
    "type(b)"
   ]
  },
  {
   "cell_type": "raw",
   "id": "07c1c793",
   "metadata": {},
   "source": [
    "type is inbuilt function  which tell you datatype which you need "
   ]
  },
  {
   "cell_type": "code",
   "execution_count": 12,
   "id": "aa20dbc1",
   "metadata": {},
   "outputs": [],
   "source": [
    "c=\"abcd\""
   ]
  },
  {
   "cell_type": "code",
   "execution_count": 13,
   "id": "55d6fb0b",
   "metadata": {},
   "outputs": [
    {
     "data": {
      "text/plain": [
       "str"
      ]
     },
     "execution_count": 13,
     "metadata": {},
     "output_type": "execute_result"
    }
   ],
   "source": [
    "type(c)"
   ]
  },
  {
   "cell_type": "code",
   "execution_count": 14,
   "id": "9931aa71",
   "metadata": {},
   "outputs": [],
   "source": [
    "z='bcdef'"
   ]
  },
  {
   "cell_type": "code",
   "execution_count": 16,
   "id": "89bfa820",
   "metadata": {},
   "outputs": [
    {
     "data": {
      "text/plain": [
       "str"
      ]
     },
     "execution_count": 16,
     "metadata": {},
     "output_type": "execute_result"
    }
   ],
   "source": [
    "type(z)"
   ]
  },
  {
   "cell_type": "raw",
   "id": "14c66328",
   "metadata": {},
   "source": [
    "string you can write in single quote ''  and double quote \"\""
   ]
  },
  {
   "cell_type": "code",
   "execution_count": 17,
   "id": "e4cd2083",
   "metadata": {},
   "outputs": [],
   "source": [
    "d=5+6j"
   ]
  },
  {
   "cell_type": "code",
   "execution_count": 18,
   "id": "5d8ec9c8",
   "metadata": {},
   "outputs": [
    {
     "data": {
      "text/plain": [
       "(5+6j)"
      ]
     },
     "execution_count": 18,
     "metadata": {},
     "output_type": "execute_result"
    }
   ],
   "source": [
    "d"
   ]
  },
  {
   "cell_type": "code",
   "execution_count": 19,
   "id": "be75949a",
   "metadata": {},
   "outputs": [
    {
     "data": {
      "text/plain": [
       "complex"
      ]
     },
     "execution_count": 19,
     "metadata": {},
     "output_type": "execute_result"
    }
   ],
   "source": [
    "type (d)"
   ]
  },
  {
   "cell_type": "code",
   "execution_count": 20,
   "id": "85b82996",
   "metadata": {},
   "outputs": [],
   "source": [
    "e= \"efghi\""
   ]
  },
  {
   "cell_type": "code",
   "execution_count": 21,
   "id": "0f442106",
   "metadata": {},
   "outputs": [
    {
     "data": {
      "text/plain": [
       "'efghi'"
      ]
     },
     "execution_count": 21,
     "metadata": {},
     "output_type": "execute_result"
    }
   ],
   "source": [
    "e"
   ]
  },
  {
   "cell_type": "code",
   "execution_count": 22,
   "id": "2f660398",
   "metadata": {},
   "outputs": [],
   "source": [
    "g = True"
   ]
  },
  {
   "cell_type": "code",
   "execution_count": 23,
   "id": "7559c991",
   "metadata": {},
   "outputs": [
    {
     "data": {
      "text/plain": [
       "bool"
      ]
     },
     "execution_count": 23,
     "metadata": {},
     "output_type": "execute_result"
    }
   ],
   "source": [
    "type(g)"
   ]
  },
  {
   "cell_type": "code",
   "execution_count": 24,
   "id": "d2711fc1",
   "metadata": {},
   "outputs": [
    {
     "ename": "SyntaxError",
     "evalue": "invalid syntax (Temp/ipykernel_9292/2684836300.py, line 1)",
     "output_type": "error",
     "traceback": [
      "\u001b[1;36m  File \u001b[1;32m\"C:\\Users\\lenovo\\AppData\\Local\\Temp/ipykernel_9292/2684836300.py\"\u001b[1;36m, line \u001b[1;32m1\u001b[0m\n\u001b[1;33m    4a=10\u001b[0m\n\u001b[1;37m     ^\u001b[0m\n\u001b[1;31mSyntaxError\u001b[0m\u001b[1;31m:\u001b[0m invalid syntax\n"
     ]
    }
   ],
   "source": [
    "4a=10"
   ]
  },
  {
   "cell_type": "code",
   "execution_count": 26,
   "id": "4e345673",
   "metadata": {},
   "outputs": [
    {
     "ename": "SyntaxError",
     "evalue": "starred assignment target must be in a list or tuple (Temp/ipykernel_9292/3162311987.py, line 1)",
     "output_type": "error",
     "traceback": [
      "\u001b[1;36m  File \u001b[1;32m\"C:\\Users\\lenovo\\AppData\\Local\\Temp/ipykernel_9292/3162311987.py\"\u001b[1;36m, line \u001b[1;32m1\u001b[0m\n\u001b[1;33m    *a=45\u001b[0m\n\u001b[1;37m    ^\u001b[0m\n\u001b[1;31mSyntaxError\u001b[0m\u001b[1;31m:\u001b[0m starred assignment target must be in a list or tuple\n"
     ]
    }
   ],
   "source": [
    "*a=45"
   ]
  },
  {
   "cell_type": "code",
   "execution_count": 27,
   "id": "99d2373d",
   "metadata": {},
   "outputs": [],
   "source": [
    "_a=28"
   ]
  },
  {
   "cell_type": "code",
   "execution_count": 28,
   "id": "0d7976ad",
   "metadata": {},
   "outputs": [
    {
     "data": {
      "text/plain": [
       "28"
      ]
     },
     "execution_count": 28,
     "metadata": {},
     "output_type": "execute_result"
    }
   ],
   "source": [
    "_a"
   ]
  },
  {
   "cell_type": "code",
   "execution_count": 29,
   "id": "086e662d",
   "metadata": {},
   "outputs": [],
   "source": [
    "a=78"
   ]
  },
  {
   "cell_type": "code",
   "execution_count": 30,
   "id": "b2c0ad30",
   "metadata": {},
   "outputs": [
    {
     "data": {
      "text/plain": [
       "78"
      ]
     },
     "execution_count": 30,
     "metadata": {},
     "output_type": "execute_result"
    }
   ],
   "source": [
    "a"
   ]
  },
  {
   "cell_type": "code",
   "execution_count": 32,
   "id": "3f7f1ae0",
   "metadata": {},
   "outputs": [],
   "source": [
    "a = 456\n",
    "b = \"siri\"\n",
    "c = 5+6j\n",
    "d = True\n",
    "e = 568.78"
   ]
  },
  {
   "cell_type": "code",
   "execution_count": 33,
   "id": "d8a9a796",
   "metadata": {},
   "outputs": [
    {
     "data": {
      "text/plain": [
       "568.78"
      ]
     },
     "execution_count": 33,
     "metadata": {},
     "output_type": "execute_result"
    }
   ],
   "source": [
    "e"
   ]
  },
  {
   "cell_type": "code",
   "execution_count": 34,
   "id": "f6be21b1",
   "metadata": {},
   "outputs": [
    {
     "data": {
      "text/plain": [
       "True"
      ]
     },
     "execution_count": 34,
     "metadata": {},
     "output_type": "execute_result"
    }
   ],
   "source": [
    "d"
   ]
  },
  {
   "cell_type": "code",
   "execution_count": 35,
   "id": "ecf9387e",
   "metadata": {},
   "outputs": [
    {
     "data": {
      "text/plain": [
       "'siri'"
      ]
     },
     "execution_count": 35,
     "metadata": {},
     "output_type": "execute_result"
    }
   ],
   "source": [
    "b"
   ]
  },
  {
   "cell_type": "code",
   "execution_count": 36,
   "id": "7ada64b0",
   "metadata": {},
   "outputs": [
    {
     "data": {
      "text/plain": [
       "(5+6j)"
      ]
     },
     "execution_count": 36,
     "metadata": {},
     "output_type": "execute_result"
    }
   ],
   "source": [
    "c"
   ]
  },
  {
   "cell_type": "code",
   "execution_count": 37,
   "id": "58cc6275",
   "metadata": {},
   "outputs": [
    {
     "data": {
      "text/plain": [
       "456"
      ]
     },
     "execution_count": 37,
     "metadata": {},
     "output_type": "execute_result"
    }
   ],
   "source": [
    "a"
   ]
  },
  {
   "cell_type": "code",
   "execution_count": 38,
   "id": "915277da",
   "metadata": {},
   "outputs": [],
   "source": [
    "a1 = 579"
   ]
  },
  {
   "cell_type": "code",
   "execution_count": 39,
   "id": "22c45bd5",
   "metadata": {},
   "outputs": [
    {
     "data": {
      "text/plain": [
       "1035"
      ]
     },
     "execution_count": 39,
     "metadata": {},
     "output_type": "execute_result"
    }
   ],
   "source": [
    "a+a1"
   ]
  },
  {
   "cell_type": "code",
   "execution_count": 40,
   "id": "f2f29a76",
   "metadata": {},
   "outputs": [],
   "source": [
    "a,b,c,d,e= 14,False,85.67,8+6j,'siri'"
   ]
  },
  {
   "cell_type": "code",
   "execution_count": 41,
   "id": "39312a51",
   "metadata": {},
   "outputs": [
    {
     "data": {
      "text/plain": [
       "(14, False, 85.67, (8+6j), 'siri')"
      ]
     },
     "execution_count": 41,
     "metadata": {},
     "output_type": "execute_result"
    }
   ],
   "source": [
    "a,b,c,d,e"
   ]
  },
  {
   "cell_type": "code",
   "execution_count": 42,
   "id": "0fdb189b",
   "metadata": {},
   "outputs": [
    {
     "ename": "SyntaxError",
     "evalue": "invalid syntax (Temp/ipykernel_9292/1246906327.py, line 1)",
     "output_type": "error",
     "traceback": [
      "\u001b[1;36m  File \u001b[1;32m\"C:\\Users\\lenovo\\AppData\\Local\\Temp/ipykernel_9292/1246906327.py\"\u001b[1;36m, line \u001b[1;32m1\u001b[0m\n\u001b[1;33m    a,b,c,d,e= 14,False,,8+6j,'siri'\u001b[0m\n\u001b[1;37m                        ^\u001b[0m\n\u001b[1;31mSyntaxError\u001b[0m\u001b[1;31m:\u001b[0m invalid syntax\n"
     ]
    }
   ],
   "source": [
    "a,b,c,d,e= 14,False,,8+6j,'siri'"
   ]
  },
  {
   "cell_type": "raw",
   "id": "50a73461",
   "metadata": {},
   "source": [
    "5 variables than must we have to give 5 values"
   ]
  },
  {
   "cell_type": "code",
   "execution_count": 43,
   "id": "6e822f68",
   "metadata": {},
   "outputs": [
    {
     "data": {
      "text/plain": [
       "(8+6j)"
      ]
     },
     "execution_count": 43,
     "metadata": {},
     "output_type": "execute_result"
    }
   ],
   "source": [
    "d"
   ]
  },
  {
   "cell_type": "code",
   "execution_count": 44,
   "id": "30b8fc3b",
   "metadata": {},
   "outputs": [
    {
     "data": {
      "text/plain": [
       "complex"
      ]
     },
     "execution_count": 44,
     "metadata": {},
     "output_type": "execute_result"
    }
   ],
   "source": [
    "type(d)"
   ]
  },
  {
   "cell_type": "code",
   "execution_count": 47,
   "id": "4b0f7964",
   "metadata": {},
   "outputs": [
    {
     "data": {
      "text/plain": [
       "6.0"
      ]
     },
     "execution_count": 47,
     "metadata": {},
     "output_type": "execute_result"
    }
   ],
   "source": [
    "d.imag"
   ]
  },
  {
   "cell_type": "code",
   "execution_count": 49,
   "id": "ffc25a95",
   "metadata": {},
   "outputs": [
    {
     "data": {
      "text/plain": [
       "8.0"
      ]
     },
     "execution_count": 49,
     "metadata": {},
     "output_type": "execute_result"
    }
   ],
   "source": [
    "d.real"
   ]
  },
  {
   "cell_type": "raw",
   "id": "2c21e729",
   "metadata": {},
   "source": [
    "to access inbuilt functions d. tab you get list inbuilt functions like imag and real "
   ]
  },
  {
   "cell_type": "code",
   "execution_count": 50,
   "id": "2586aee9",
   "metadata": {},
   "outputs": [
    {
     "data": {
      "text/plain": [
       "'siri'"
      ]
     },
     "execution_count": 50,
     "metadata": {},
     "output_type": "execute_result"
    }
   ],
   "source": [
    "e"
   ]
  },
  {
   "cell_type": "code",
   "execution_count": 53,
   "id": "6dd63cf5",
   "metadata": {},
   "outputs": [],
   "source": [
    "h = 'fgh'"
   ]
  },
  {
   "cell_type": "code",
   "execution_count": 54,
   "id": "af26ef3e",
   "metadata": {},
   "outputs": [],
   "source": [
    "i = 7"
   ]
  },
  {
   "cell_type": "code",
   "execution_count": 55,
   "id": "c6e82ec9",
   "metadata": {},
   "outputs": [
    {
     "ename": "TypeError",
     "evalue": "can only concatenate str (not \"int\") to str",
     "output_type": "error",
     "traceback": [
      "\u001b[1;31m---------------------------------------------------------------------------\u001b[0m",
      "\u001b[1;31mTypeError\u001b[0m                                 Traceback (most recent call last)",
      "\u001b[1;32m~\\AppData\\Local\\Temp/ipykernel_9292/4141906900.py\u001b[0m in \u001b[0;36m<module>\u001b[1;34m\u001b[0m\n\u001b[1;32m----> 1\u001b[1;33m \u001b[0mh\u001b[0m\u001b[1;33m+\u001b[0m\u001b[0mi\u001b[0m\u001b[1;33m\u001b[0m\u001b[1;33m\u001b[0m\u001b[0m\n\u001b[0m",
      "\u001b[1;31mTypeError\u001b[0m: can only concatenate str (not \"int\") to str"
     ]
    }
   ],
   "source": [
    "h+i"
   ]
  },
  {
   "cell_type": "code",
   "execution_count": 56,
   "id": "68534e9c",
   "metadata": {},
   "outputs": [
    {
     "data": {
      "text/plain": [
       "'fgh'"
      ]
     },
     "execution_count": 56,
     "metadata": {},
     "output_type": "execute_result"
    }
   ],
   "source": [
    "h"
   ]
  },
  {
   "cell_type": "code",
   "execution_count": 57,
   "id": "229213db",
   "metadata": {},
   "outputs": [],
   "source": [
    "i = '7'"
   ]
  },
  {
   "cell_type": "code",
   "execution_count": 58,
   "id": "8c62d22c",
   "metadata": {},
   "outputs": [
    {
     "data": {
      "text/plain": [
       "'fgh7'"
      ]
     },
     "execution_count": 58,
     "metadata": {},
     "output_type": "execute_result"
    }
   ],
   "source": [
    "h+i"
   ]
  },
  {
   "cell_type": "code",
   "execution_count": 59,
   "id": "778ea1ad",
   "metadata": {},
   "outputs": [],
   "source": [
    "j = 'acd'"
   ]
  },
  {
   "cell_type": "code",
   "execution_count": 60,
   "id": "86564329",
   "metadata": {},
   "outputs": [],
   "source": [
    "k = 98"
   ]
  },
  {
   "cell_type": "code",
   "execution_count": 61,
   "id": "4e6e5f37",
   "metadata": {},
   "outputs": [
    {
     "data": {
      "text/plain": [
       "'acd98'"
      ]
     },
     "execution_count": 61,
     "metadata": {},
     "output_type": "execute_result"
    }
   ],
   "source": [
    "j + str(k)"
   ]
  },
  {
   "cell_type": "raw",
   "id": "94880760",
   "metadata": {},
   "source": [
    "typecasting we used to add both strings j and k="
   ]
  },
  {
   "cell_type": "code",
   "execution_count": 63,
   "id": "673e0a0b",
   "metadata": {},
   "outputs": [
    {
     "data": {
      "text/plain": [
       "2"
      ]
     },
     "execution_count": 63,
     "metadata": {},
     "output_type": "execute_result"
    }
   ],
   "source": [
    "True + True"
   ]
  },
  {
   "cell_type": "raw",
   "id": "d455a570",
   "metadata": {},
   "source": [
    "True =  1  False = 0  boolean function"
   ]
  },
  {
   "cell_type": "code",
   "execution_count": 64,
   "id": "7659fea5",
   "metadata": {},
   "outputs": [
    {
     "data": {
      "text/plain": [
       "1"
      ]
     },
     "execution_count": 64,
     "metadata": {},
     "output_type": "execute_result"
    }
   ],
   "source": [
    "True +  False"
   ]
  },
  {
   "cell_type": "code",
   "execution_count": 65,
   "id": "ad3589fc",
   "metadata": {},
   "outputs": [
    {
     "data": {
      "text/plain": [
       "1"
      ]
     },
     "execution_count": 65,
     "metadata": {},
     "output_type": "execute_result"
    }
   ],
   "source": [
    "True - False"
   ]
  },
  {
   "cell_type": "code",
   "execution_count": 66,
   "id": "44c551f3",
   "metadata": {},
   "outputs": [
    {
     "data": {
      "text/plain": [
       "0"
      ]
     },
     "execution_count": 66,
     "metadata": {},
     "output_type": "execute_result"
    }
   ],
   "source": [
    "False + False"
   ]
  },
  {
   "cell_type": "code",
   "execution_count": 67,
   "id": "58e351ca",
   "metadata": {},
   "outputs": [
    {
     "data": {
      "text/plain": [
       "0"
      ]
     },
     "execution_count": 67,
     "metadata": {},
     "output_type": "execute_result"
    }
   ],
   "source": [
    "False - False "
   ]
  },
  {
   "cell_type": "code",
   "execution_count": 68,
   "id": "3cbbd46d",
   "metadata": {},
   "outputs": [
    {
     "data": {
      "text/plain": [
       "2"
      ]
     },
     "execution_count": 68,
     "metadata": {},
     "output_type": "execute_result"
    }
   ],
   "source": [
    "1 + True"
   ]
  },
  {
   "cell_type": "code",
   "execution_count": 69,
   "id": "52bff930",
   "metadata": {},
   "outputs": [
    {
     "data": {
      "text/plain": [
       "45"
      ]
     },
     "execution_count": 69,
     "metadata": {},
     "output_type": "execute_result"
    }
   ],
   "source": [
    "44 + True"
   ]
  },
  {
   "cell_type": "code",
   "execution_count": 71,
   "id": "bf19cf85",
   "metadata": {},
   "outputs": [
    {
     "name": "stdout",
     "output_type": "stream",
     "text": [
      "abcghty\n"
     ]
    },
    {
     "data": {
      "text/plain": [
       "'abcghty'"
      ]
     },
     "execution_count": 71,
     "metadata": {},
     "output_type": "execute_result"
    }
   ],
   "source": [
    "input()"
   ]
  },
  {
   "cell_type": "code",
   "execution_count": 74,
   "id": "6315255b",
   "metadata": {},
   "outputs": [],
   "source": [
    "a = 'siri'"
   ]
  },
  {
   "cell_type": "code",
   "execution_count": 75,
   "id": "defec653",
   "metadata": {},
   "outputs": [
    {
     "data": {
      "text/plain": [
       "'siri'"
      ]
     },
     "execution_count": 75,
     "metadata": {},
     "output_type": "execute_result"
    }
   ],
   "source": [
    "a"
   ]
  },
  {
   "cell_type": "code",
   "execution_count": 77,
   "id": "2fa3c64e",
   "metadata": {},
   "outputs": [
    {
     "name": "stdout",
     "output_type": "stream",
     "text": [
      "abcd\n"
     ]
    }
   ],
   "source": [
    "a = input()"
   ]
  },
  {
   "cell_type": "code",
   "execution_count": 78,
   "id": "d099707b",
   "metadata": {},
   "outputs": [],
   "source": [
    "b = \"vins\""
   ]
  },
  {
   "cell_type": "code",
   "execution_count": 79,
   "id": "1bc1f349",
   "metadata": {},
   "outputs": [
    {
     "data": {
      "text/plain": [
       "'vins'"
      ]
     },
     "execution_count": 79,
     "metadata": {},
     "output_type": "execute_result"
    }
   ],
   "source": [
    "b"
   ]
  },
  {
   "cell_type": "code",
   "execution_count": 80,
   "id": "a041e313",
   "metadata": {},
   "outputs": [
    {
     "name": "stdout",
     "output_type": "stream",
     "text": [
      "fgh\n"
     ]
    }
   ],
   "source": [
    "b = input()"
   ]
  },
  {
   "cell_type": "code",
   "execution_count": 1,
   "id": "d29fe8b0",
   "metadata": {},
   "outputs": [],
   "source": [
    "c = \"rohit\""
   ]
  },
  {
   "cell_type": "code",
   "execution_count": 3,
   "id": "d1aae284",
   "metadata": {},
   "outputs": [
    {
     "name": "stdout",
     "output_type": "stream",
     "text": [
      "nik\n"
     ]
    }
   ],
   "source": [
    "c = input()"
   ]
  },
  {
   "cell_type": "code",
   "execution_count": 4,
   "id": "8e4ca5eb",
   "metadata": {},
   "outputs": [],
   "source": [
    "a = 455748"
   ]
  },
  {
   "cell_type": "code",
   "execution_count": 5,
   "id": "42081cd2",
   "metadata": {},
   "outputs": [
    {
     "data": {
      "text/plain": [
       "455748"
      ]
     },
     "execution_count": 5,
     "metadata": {},
     "output_type": "execute_result"
    }
   ],
   "source": [
    "a"
   ]
  },
  {
   "cell_type": "code",
   "execution_count": 6,
   "id": "e5fd5d67",
   "metadata": {},
   "outputs": [],
   "source": [
    "b = 'agh'"
   ]
  },
  {
   "cell_type": "code",
   "execution_count": 7,
   "id": "a79ae8d4",
   "metadata": {},
   "outputs": [
    {
     "data": {
      "text/plain": [
       "'agh'"
      ]
     },
     "execution_count": 7,
     "metadata": {},
     "output_type": "execute_result"
    }
   ],
   "source": [
    "b"
   ]
  },
  {
   "cell_type": "code",
   "execution_count": 8,
   "id": "e575ca94",
   "metadata": {},
   "outputs": [
    {
     "ename": "TypeError",
     "evalue": "unsupported operand type(s) for +: 'int' and 'str'",
     "output_type": "error",
     "traceback": [
      "\u001b[1;31m---------------------------------------------------------------------------\u001b[0m",
      "\u001b[1;31mTypeError\u001b[0m                                 Traceback (most recent call last)",
      "\u001b[1;32m~\\AppData\\Local\\Temp/ipykernel_14784/3553919051.py\u001b[0m in \u001b[0;36m<module>\u001b[1;34m\u001b[0m\n\u001b[1;32m----> 1\u001b[1;33m \u001b[0ma\u001b[0m\u001b[1;33m+\u001b[0m\u001b[0mb\u001b[0m\u001b[1;33m\u001b[0m\u001b[1;33m\u001b[0m\u001b[0m\n\u001b[0m",
      "\u001b[1;31mTypeError\u001b[0m: unsupported operand type(s) for +: 'int' and 'str'"
     ]
    }
   ],
   "source": [
    "a+b"
   ]
  },
  {
   "cell_type": "code",
   "execution_count": 10,
   "id": "51966a25",
   "metadata": {},
   "outputs": [
    {
     "name": "stdout",
     "output_type": "stream",
     "text": [
      "45678\n"
     ]
    }
   ],
   "source": [
    " a =  input()"
   ]
  },
  {
   "cell_type": "code",
   "execution_count": 11,
   "id": "0b378cb1",
   "metadata": {},
   "outputs": [
    {
     "data": {
      "text/plain": [
       "'45678'"
      ]
     },
     "execution_count": 11,
     "metadata": {},
     "output_type": "execute_result"
    }
   ],
   "source": [
    "a"
   ]
  },
  {
   "cell_type": "code",
   "execution_count": 12,
   "id": "f3998cb8",
   "metadata": {},
   "outputs": [],
   "source": [
    "b=28"
   ]
  },
  {
   "cell_type": "code",
   "execution_count": 13,
   "id": "0ae8a24d",
   "metadata": {},
   "outputs": [
    {
     "ename": "TypeError",
     "evalue": "can only concatenate str (not \"int\") to str",
     "output_type": "error",
     "traceback": [
      "\u001b[1;31m---------------------------------------------------------------------------\u001b[0m",
      "\u001b[1;31mTypeError\u001b[0m                                 Traceback (most recent call last)",
      "\u001b[1;32m~\\AppData\\Local\\Temp/ipykernel_14784/3553919051.py\u001b[0m in \u001b[0;36m<module>\u001b[1;34m\u001b[0m\n\u001b[1;32m----> 1\u001b[1;33m \u001b[0ma\u001b[0m\u001b[1;33m+\u001b[0m\u001b[0mb\u001b[0m\u001b[1;33m\u001b[0m\u001b[1;33m\u001b[0m\u001b[0m\n\u001b[0m",
      "\u001b[1;31mTypeError\u001b[0m: can only concatenate str (not \"int\") to str"
     ]
    }
   ],
   "source": [
    "a+b"
   ]
  },
  {
   "cell_type": "raw",
   "id": "ca268120",
   "metadata": {},
   "source": [
    "a is a string because we taken value from user thats why it is giving error.\n",
    "the above value given like this a(string)+b(int) it cannot be added thats why giving error.\n"
   ]
  },
  {
   "cell_type": "code",
   "execution_count": 14,
   "id": "b65f0ef1",
   "metadata": {},
   "outputs": [
    {
     "data": {
      "text/plain": [
       "45706"
      ]
     },
     "execution_count": 14,
     "metadata": {},
     "output_type": "execute_result"
    }
   ],
   "source": [
    "int(a)+b"
   ]
  },
  {
   "cell_type": "raw",
   "id": "54eebf6c",
   "metadata": {},
   "source": [
    "we used typecasting from string to integer "
   ]
  },
  {
   "cell_type": "raw",
   "id": "36816ee1",
   "metadata": {},
   "source": [
    "what is typecasting example converting datatype form one datatype to another datatype . \n",
    "like string value converted in integer and integer value will be convert in float as well "
   ]
  },
  {
   "cell_type": "code",
   "execution_count": 15,
   "id": "c9ca4add",
   "metadata": {},
   "outputs": [
    {
     "name": "stdout",
     "output_type": "stream",
     "text": [
      "4679\n"
     ]
    }
   ],
   "source": [
    "o = input()"
   ]
  },
  {
   "cell_type": "code",
   "execution_count": 16,
   "id": "16e87c22",
   "metadata": {},
   "outputs": [
    {
     "data": {
      "text/plain": [
       "'4679'"
      ]
     },
     "execution_count": 16,
     "metadata": {},
     "output_type": "execute_result"
    }
   ],
   "source": [
    "o"
   ]
  },
  {
   "cell_type": "code",
   "execution_count": 17,
   "id": "570b258d",
   "metadata": {},
   "outputs": [],
   "source": [
    "q = 58"
   ]
  },
  {
   "cell_type": "code",
   "execution_count": 18,
   "id": "c6254093",
   "metadata": {},
   "outputs": [
    {
     "ename": "TypeError",
     "evalue": "can only concatenate str (not \"int\") to str",
     "output_type": "error",
     "traceback": [
      "\u001b[1;31m---------------------------------------------------------------------------\u001b[0m",
      "\u001b[1;31mTypeError\u001b[0m                                 Traceback (most recent call last)",
      "\u001b[1;32m~\\AppData\\Local\\Temp/ipykernel_14784/2201360485.py\u001b[0m in \u001b[0;36m<module>\u001b[1;34m\u001b[0m\n\u001b[1;32m----> 1\u001b[1;33m \u001b[0mo\u001b[0m\u001b[1;33m+\u001b[0m\u001b[0mq\u001b[0m\u001b[1;33m\u001b[0m\u001b[1;33m\u001b[0m\u001b[0m\n\u001b[0m",
      "\u001b[1;31mTypeError\u001b[0m: can only concatenate str (not \"int\") to str"
     ]
    }
   ],
   "source": [
    "o+q"
   ]
  },
  {
   "cell_type": "code",
   "execution_count": 20,
   "id": "d5f9e2c8",
   "metadata": {},
   "outputs": [
    {
     "data": {
      "text/plain": [
       "4737"
      ]
     },
     "execution_count": 20,
     "metadata": {},
     "output_type": "execute_result"
    }
   ],
   "source": [
    "int(o)+q"
   ]
  },
  {
   "cell_type": "code",
   "execution_count": 21,
   "id": "6afe12cd",
   "metadata": {},
   "outputs": [
    {
     "data": {
      "text/plain": [
       "4737"
      ]
     },
     "execution_count": 21,
     "metadata": {},
     "output_type": "execute_result"
    }
   ],
   "source": [
    "q+int(o)"
   ]
  },
  {
   "cell_type": "code",
   "execution_count": 58,
   "id": "fd76566a",
   "metadata": {},
   "outputs": [
    {
     "name": "stdout",
     "output_type": "stream",
     "text": [
      "4567\n"
     ]
    }
   ],
   "source": [
    "y = input()"
   ]
  },
  {
   "cell_type": "code",
   "execution_count": 59,
   "id": "e7aeb31d",
   "metadata": {},
   "outputs": [
    {
     "data": {
      "text/plain": [
       "'4567'"
      ]
     },
     "execution_count": 59,
     "metadata": {},
     "output_type": "execute_result"
    }
   ],
   "source": [
    "y"
   ]
  },
  {
   "cell_type": "code",
   "execution_count": 60,
   "id": "1d2fb62b",
   "metadata": {},
   "outputs": [],
   "source": [
    "x=45"
   ]
  },
  {
   "cell_type": "code",
   "execution_count": 61,
   "id": "5261b23d",
   "metadata": {},
   "outputs": [
    {
     "data": {
      "text/plain": [
       "4612"
      ]
     },
     "execution_count": 61,
     "metadata": {},
     "output_type": "execute_result"
    }
   ],
   "source": [
    "int(y)+x"
   ]
  },
  {
   "cell_type": "code",
   "execution_count": null,
   "id": "acbfd633",
   "metadata": {},
   "outputs": [],
   "source": []
  }
 ],
 "metadata": {
  "kernelspec": {
   "display_name": "Python 3 (ipykernel)",
   "language": "python",
   "name": "python3"
  },
  "language_info": {
   "codemirror_mode": {
    "name": "ipython",
    "version": 3
   },
   "file_extension": ".py",
   "mimetype": "text/x-python",
   "name": "python",
   "nbconvert_exporter": "python",
   "pygments_lexer": "ipython3",
   "version": "3.9.7"
  }
 },
 "nbformat": 4,
 "nbformat_minor": 5
}
